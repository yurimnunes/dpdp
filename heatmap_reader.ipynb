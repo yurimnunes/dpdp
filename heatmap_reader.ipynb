{
 "cells": [
  {
   "cell_type": "code",
   "execution_count": 58,
   "metadata": {},
   "outputs": [],
   "source": [
    "# read results/tsp/tsp10_val/heatmaps/heatmaps_default.pkl\n",
    "import pickle\n",
    "import numpy as np\n",
    "import matplotlib.pyplot as plt\n",
    "import matplotlib.colors as mcolors\n",
    "import matplotlib.cm as cm\n",
    "\n",
    "import pandas as pd\n",
    "\n",
    "#data = pickle.load(open('results/vrp/dados_validacao/heatmaps/heatmaps_default_vrp.pkl', 'rb'))\n",
    "data = pickle.load(open('results/vrp/dados_validacao/heatmaps/heatmaps_vrp_uchoa100.pkl', 'rb'))\n"
   ]
  },
  {
   "cell_type": "code",
   "execution_count": null,
   "metadata": {},
   "outputs": [],
   "source": []
  },
  {
   "cell_type": "code",
   "execution_count": 59,
   "metadata": {},
   "outputs": [
    {
     "data": {
      "text/plain": [
       "tuple"
      ]
     },
     "execution_count": 59,
     "metadata": {},
     "output_type": "execute_result"
    }
   ],
   "source": [
    "type(data)"
   ]
  },
  {
   "cell_type": "code",
   "execution_count": 60,
   "metadata": {},
   "outputs": [
    {
     "data": {
      "text/plain": [
       "2"
      ]
     },
     "execution_count": 60,
     "metadata": {},
     "output_type": "execute_result"
    }
   ],
   "source": [
    "len(data)"
   ]
  },
  {
   "cell_type": "code",
   "execution_count": 61,
   "metadata": {},
   "outputs": [
    {
     "data": {
      "text/plain": [
       "numpy.ndarray"
      ]
     },
     "execution_count": 61,
     "metadata": {},
     "output_type": "execute_result"
    }
   ],
   "source": [
    "type(data[0])"
   ]
  },
  {
   "cell_type": "code",
   "execution_count": 62,
   "metadata": {},
   "outputs": [
    {
     "data": {
      "text/plain": [
       "2000"
      ]
     },
     "execution_count": 62,
     "metadata": {},
     "output_type": "execute_result"
    }
   ],
   "source": [
    "len(data[0])"
   ]
  },
  {
   "cell_type": "code",
   "execution_count": 63,
   "metadata": {},
   "outputs": [
    {
     "data": {
      "text/plain": [
       "101"
      ]
     },
     "execution_count": 63,
     "metadata": {},
     "output_type": "execute_result"
    }
   ],
   "source": [
    "len(data[0][0])"
   ]
  },
  {
   "cell_type": "code",
   "execution_count": null,
   "metadata": {},
   "outputs": [
    {
     "data": {
      "text/html": [
       "<div>\n",
       "<style scoped>\n",
       "    .dataframe tbody tr th:only-of-type {\n",
       "        vertical-align: middle;\n",
       "    }\n",
       "\n",
       "    .dataframe tbody tr th {\n",
       "        vertical-align: top;\n",
       "    }\n",
       "\n",
       "    .dataframe thead th {\n",
       "        text-align: right;\n",
       "    }\n",
       "</style>\n",
       "<table border=\"1\" class=\"dataframe\">\n",
       "  <thead>\n",
       "    <tr style=\"text-align: right;\">\n",
       "      <th></th>\n",
       "      <th>0</th>\n",
       "      <th>1</th>\n",
       "      <th>2</th>\n",
       "      <th>3</th>\n",
       "      <th>4</th>\n",
       "      <th>5</th>\n",
       "      <th>6</th>\n",
       "      <th>7</th>\n",
       "      <th>8</th>\n",
       "      <th>9</th>\n",
       "      <th>...</th>\n",
       "      <th>91</th>\n",
       "      <th>92</th>\n",
       "      <th>93</th>\n",
       "      <th>94</th>\n",
       "      <th>95</th>\n",
       "      <th>96</th>\n",
       "      <th>97</th>\n",
       "      <th>98</th>\n",
       "      <th>99</th>\n",
       "      <th>100</th>\n",
       "    </tr>\n",
       "  </thead>\n",
       "  <tbody>\n",
       "    <tr>\n",
       "      <th>0</th>\n",
       "      <td>-13.943456</td>\n",
       "      <td>-0.012783</td>\n",
       "      <td>-0.060309</td>\n",
       "      <td>-0.068919</td>\n",
       "      <td>-0.048487</td>\n",
       "      <td>-0.001611</td>\n",
       "      <td>-0.024995</td>\n",
       "      <td>-0.010587</td>\n",
       "      <td>-0.039907</td>\n",
       "      <td>-0.005481</td>\n",
       "      <td>...</td>\n",
       "      <td>-0.013710</td>\n",
       "      <td>-0.040255</td>\n",
       "      <td>-0.157751</td>\n",
       "      <td>-0.064669</td>\n",
       "      <td>-0.036841</td>\n",
       "      <td>-0.000416</td>\n",
       "      <td>-0.048527</td>\n",
       "      <td>-0.151107</td>\n",
       "      <td>-0.070789</td>\n",
       "      <td>-0.024827</td>\n",
       "    </tr>\n",
       "    <tr>\n",
       "      <th>1</th>\n",
       "      <td>-0.012783</td>\n",
       "      <td>-21.222805</td>\n",
       "      <td>-8.373646</td>\n",
       "      <td>-9.517244</td>\n",
       "      <td>-6.995063</td>\n",
       "      <td>-1.216057</td>\n",
       "      <td>-3.129905</td>\n",
       "      <td>-9.492067</td>\n",
       "      <td>-9.637668</td>\n",
       "      <td>-5.731621</td>\n",
       "      <td>...</td>\n",
       "      <td>-8.503281</td>\n",
       "      <td>-10.434442</td>\n",
       "      <td>-12.460521</td>\n",
       "      <td>-0.830464</td>\n",
       "      <td>-7.424421</td>\n",
       "      <td>-8.504823</td>\n",
       "      <td>-10.348770</td>\n",
       "      <td>-4.558813</td>\n",
       "      <td>-9.813219</td>\n",
       "      <td>-8.470291</td>\n",
       "    </tr>\n",
       "    <tr>\n",
       "      <th>2</th>\n",
       "      <td>-0.060309</td>\n",
       "      <td>-8.373646</td>\n",
       "      <td>-12.429192</td>\n",
       "      <td>-8.108897</td>\n",
       "      <td>-9.293177</td>\n",
       "      <td>-4.085349</td>\n",
       "      <td>-11.115271</td>\n",
       "      <td>-7.010870</td>\n",
       "      <td>-0.048731</td>\n",
       "      <td>-2.743439</td>\n",
       "      <td>...</td>\n",
       "      <td>-8.646071</td>\n",
       "      <td>-9.918068</td>\n",
       "      <td>-0.069340</td>\n",
       "      <td>-11.133877</td>\n",
       "      <td>-0.891752</td>\n",
       "      <td>-5.110979</td>\n",
       "      <td>-0.750154</td>\n",
       "      <td>-5.020813</td>\n",
       "      <td>-12.341984</td>\n",
       "      <td>-10.118814</td>\n",
       "    </tr>\n",
       "    <tr>\n",
       "      <th>3</th>\n",
       "      <td>-0.068919</td>\n",
       "      <td>-9.517246</td>\n",
       "      <td>-8.108896</td>\n",
       "      <td>-14.672182</td>\n",
       "      <td>-12.365495</td>\n",
       "      <td>-6.656723</td>\n",
       "      <td>-11.552981</td>\n",
       "      <td>-0.368276</td>\n",
       "      <td>-9.552605</td>\n",
       "      <td>-8.803848</td>\n",
       "      <td>...</td>\n",
       "      <td>-4.905570</td>\n",
       "      <td>-6.659394</td>\n",
       "      <td>-7.755281</td>\n",
       "      <td>-13.800227</td>\n",
       "      <td>-9.002788</td>\n",
       "      <td>-1.387234</td>\n",
       "      <td>-5.207482</td>\n",
       "      <td>-10.053432</td>\n",
       "      <td>-5.801149</td>\n",
       "      <td>-1.382021</td>\n",
       "    </tr>\n",
       "    <tr>\n",
       "      <th>4</th>\n",
       "      <td>-0.048487</td>\n",
       "      <td>-6.995063</td>\n",
       "      <td>-9.293177</td>\n",
       "      <td>-12.365495</td>\n",
       "      <td>-15.145913</td>\n",
       "      <td>-6.936607</td>\n",
       "      <td>-2.064808</td>\n",
       "      <td>-11.416790</td>\n",
       "      <td>-11.247527</td>\n",
       "      <td>-11.919610</td>\n",
       "      <td>...</td>\n",
       "      <td>-7.239964</td>\n",
       "      <td>-6.472888</td>\n",
       "      <td>-11.742085</td>\n",
       "      <td>-8.940656</td>\n",
       "      <td>-13.520312</td>\n",
       "      <td>-10.903395</td>\n",
       "      <td>-13.455562</td>\n",
       "      <td>-12.392919</td>\n",
       "      <td>-6.009075</td>\n",
       "      <td>-8.580537</td>\n",
       "    </tr>\n",
       "    <tr>\n",
       "      <th>...</th>\n",
       "      <td>...</td>\n",
       "      <td>...</td>\n",
       "      <td>...</td>\n",
       "      <td>...</td>\n",
       "      <td>...</td>\n",
       "      <td>...</td>\n",
       "      <td>...</td>\n",
       "      <td>...</td>\n",
       "      <td>...</td>\n",
       "      <td>...</td>\n",
       "      <td>...</td>\n",
       "      <td>...</td>\n",
       "      <td>...</td>\n",
       "      <td>...</td>\n",
       "      <td>...</td>\n",
       "      <td>...</td>\n",
       "      <td>...</td>\n",
       "      <td>...</td>\n",
       "      <td>...</td>\n",
       "      <td>...</td>\n",
       "      <td>...</td>\n",
       "    </tr>\n",
       "    <tr>\n",
       "      <th>96</th>\n",
       "      <td>-0.000416</td>\n",
       "      <td>-8.504824</td>\n",
       "      <td>-5.110978</td>\n",
       "      <td>-1.387234</td>\n",
       "      <td>-10.903396</td>\n",
       "      <td>-4.192978</td>\n",
       "      <td>-12.298819</td>\n",
       "      <td>-0.138365</td>\n",
       "      <td>-4.142889</td>\n",
       "      <td>-4.913722</td>\n",
       "      <td>...</td>\n",
       "      <td>-7.616995</td>\n",
       "      <td>-7.765650</td>\n",
       "      <td>-2.653537</td>\n",
       "      <td>-11.375121</td>\n",
       "      <td>-6.105581</td>\n",
       "      <td>-17.559519</td>\n",
       "      <td>-1.808319</td>\n",
       "      <td>-5.654220</td>\n",
       "      <td>-8.505041</td>\n",
       "      <td>-5.084475</td>\n",
       "    </tr>\n",
       "    <tr>\n",
       "      <th>97</th>\n",
       "      <td>-0.048527</td>\n",
       "      <td>-10.348770</td>\n",
       "      <td>-0.750154</td>\n",
       "      <td>-5.207483</td>\n",
       "      <td>-13.455564</td>\n",
       "      <td>-5.945000</td>\n",
       "      <td>-14.349017</td>\n",
       "      <td>-3.887536</td>\n",
       "      <td>-0.251923</td>\n",
       "      <td>-4.682114</td>\n",
       "      <td>...</td>\n",
       "      <td>-8.394950</td>\n",
       "      <td>-8.143919</td>\n",
       "      <td>-0.007625</td>\n",
       "      <td>-14.725558</td>\n",
       "      <td>-2.559859</td>\n",
       "      <td>-1.808319</td>\n",
       "      <td>-13.143639</td>\n",
       "      <td>-6.184281</td>\n",
       "      <td>-11.114950</td>\n",
       "      <td>-6.494760</td>\n",
       "    </tr>\n",
       "    <tr>\n",
       "      <th>98</th>\n",
       "      <td>-0.151107</td>\n",
       "      <td>-4.558814</td>\n",
       "      <td>-5.020814</td>\n",
       "      <td>-10.053434</td>\n",
       "      <td>-12.392920</td>\n",
       "      <td>-0.270060</td>\n",
       "      <td>-9.996020</td>\n",
       "      <td>-8.540613</td>\n",
       "      <td>-4.495099</td>\n",
       "      <td>-0.663568</td>\n",
       "      <td>...</td>\n",
       "      <td>-10.610324</td>\n",
       "      <td>-14.867631</td>\n",
       "      <td>-6.174091</td>\n",
       "      <td>-8.165807</td>\n",
       "      <td>-2.019250</td>\n",
       "      <td>-5.654219</td>\n",
       "      <td>-6.184280</td>\n",
       "      <td>-16.769903</td>\n",
       "      <td>-14.567741</td>\n",
       "      <td>-10.896477</td>\n",
       "    </tr>\n",
       "    <tr>\n",
       "      <th>99</th>\n",
       "      <td>-0.070789</td>\n",
       "      <td>-9.813220</td>\n",
       "      <td>-12.341985</td>\n",
       "      <td>-5.801148</td>\n",
       "      <td>-6.009074</td>\n",
       "      <td>-8.544637</td>\n",
       "      <td>-8.237851</td>\n",
       "      <td>-8.011713</td>\n",
       "      <td>-11.796295</td>\n",
       "      <td>-13.954015</td>\n",
       "      <td>...</td>\n",
       "      <td>-1.007555</td>\n",
       "      <td>-0.014320</td>\n",
       "      <td>-11.754469</td>\n",
       "      <td>-11.509762</td>\n",
       "      <td>-13.895251</td>\n",
       "      <td>-8.505041</td>\n",
       "      <td>-11.114950</td>\n",
       "      <td>-14.567743</td>\n",
       "      <td>-16.897682</td>\n",
       "      <td>-2.804581</td>\n",
       "    </tr>\n",
       "    <tr>\n",
       "      <th>100</th>\n",
       "      <td>-0.024827</td>\n",
       "      <td>-8.470291</td>\n",
       "      <td>-10.118816</td>\n",
       "      <td>-1.382022</td>\n",
       "      <td>-8.580538</td>\n",
       "      <td>-6.870009</td>\n",
       "      <td>-8.082660</td>\n",
       "      <td>-5.075763</td>\n",
       "      <td>-7.825663</td>\n",
       "      <td>-9.030095</td>\n",
       "      <td>...</td>\n",
       "      <td>-2.530072</td>\n",
       "      <td>-3.749768</td>\n",
       "      <td>-8.324140</td>\n",
       "      <td>-14.502064</td>\n",
       "      <td>-8.476281</td>\n",
       "      <td>-5.084475</td>\n",
       "      <td>-6.494759</td>\n",
       "      <td>-10.896477</td>\n",
       "      <td>-2.804581</td>\n",
       "      <td>-12.568513</td>\n",
       "    </tr>\n",
       "  </tbody>\n",
       "</table>\n",
       "<p>101 rows × 101 columns</p>\n",
       "</div>"
      ],
      "text/plain": [
       "           0          1          2          3          4         5    \\\n",
       "0   -13.943456  -0.012783  -0.060309  -0.068919  -0.048487 -0.001611   \n",
       "1    -0.012783 -21.222805  -8.373646  -9.517244  -6.995063 -1.216057   \n",
       "2    -0.060309  -8.373646 -12.429192  -8.108897  -9.293177 -4.085349   \n",
       "3    -0.068919  -9.517246  -8.108896 -14.672182 -12.365495 -6.656723   \n",
       "4    -0.048487  -6.995063  -9.293177 -12.365495 -15.145913 -6.936607   \n",
       "..         ...        ...        ...        ...        ...       ...   \n",
       "96   -0.000416  -8.504824  -5.110978  -1.387234 -10.903396 -4.192978   \n",
       "97   -0.048527 -10.348770  -0.750154  -5.207483 -13.455564 -5.945000   \n",
       "98   -0.151107  -4.558814  -5.020814 -10.053434 -12.392920 -0.270060   \n",
       "99   -0.070789  -9.813220 -12.341985  -5.801148  -6.009074 -8.544637   \n",
       "100  -0.024827  -8.470291 -10.118816  -1.382022  -8.580538 -6.870009   \n",
       "\n",
       "           6          7          8          9    ...        91         92   \\\n",
       "0    -0.024995  -0.010587  -0.039907  -0.005481  ...  -0.013710  -0.040255   \n",
       "1    -3.129905  -9.492067  -9.637668  -5.731621  ...  -8.503281 -10.434442   \n",
       "2   -11.115271  -7.010870  -0.048731  -2.743439  ...  -8.646071  -9.918068   \n",
       "3   -11.552981  -0.368276  -9.552605  -8.803848  ...  -4.905570  -6.659394   \n",
       "4    -2.064808 -11.416790 -11.247527 -11.919610  ...  -7.239964  -6.472888   \n",
       "..         ...        ...        ...        ...  ...        ...        ...   \n",
       "96  -12.298819  -0.138365  -4.142889  -4.913722  ...  -7.616995  -7.765650   \n",
       "97  -14.349017  -3.887536  -0.251923  -4.682114  ...  -8.394950  -8.143919   \n",
       "98   -9.996020  -8.540613  -4.495099  -0.663568  ... -10.610324 -14.867631   \n",
       "99   -8.237851  -8.011713 -11.796295 -13.954015  ...  -1.007555  -0.014320   \n",
       "100  -8.082660  -5.075763  -7.825663  -9.030095  ...  -2.530072  -3.749768   \n",
       "\n",
       "           93         94         95         96         97         98   \\\n",
       "0    -0.157751  -0.064669  -0.036841  -0.000416  -0.048527  -0.151107   \n",
       "1   -12.460521  -0.830464  -7.424421  -8.504823 -10.348770  -4.558813   \n",
       "2    -0.069340 -11.133877  -0.891752  -5.110979  -0.750154  -5.020813   \n",
       "3    -7.755281 -13.800227  -9.002788  -1.387234  -5.207482 -10.053432   \n",
       "4   -11.742085  -8.940656 -13.520312 -10.903395 -13.455562 -12.392919   \n",
       "..         ...        ...        ...        ...        ...        ...   \n",
       "96   -2.653537 -11.375121  -6.105581 -17.559519  -1.808319  -5.654220   \n",
       "97   -0.007625 -14.725558  -2.559859  -1.808319 -13.143639  -6.184281   \n",
       "98   -6.174091  -8.165807  -2.019250  -5.654219  -6.184280 -16.769903   \n",
       "99  -11.754469 -11.509762 -13.895251  -8.505041 -11.114950 -14.567743   \n",
       "100  -8.324140 -14.502064  -8.476281  -5.084475  -6.494759 -10.896477   \n",
       "\n",
       "           99         100  \n",
       "0    -0.070789  -0.024827  \n",
       "1    -9.813219  -8.470291  \n",
       "2   -12.341984 -10.118814  \n",
       "3    -5.801149  -1.382021  \n",
       "4    -6.009075  -8.580537  \n",
       "..         ...        ...  \n",
       "96   -8.505041  -5.084475  \n",
       "97  -11.114950  -6.494760  \n",
       "98  -14.567741 -10.896477  \n",
       "99  -16.897682  -2.804581  \n",
       "100  -2.804581 -12.568513  \n",
       "\n",
       "[101 rows x 101 columns]"
      ]
     },
     "execution_count": 64,
     "metadata": {},
     "output_type": "execute_result"
    }
   ],
   "source": [
    "data_frame = pd.DataFrame(data[0][0])\n",
    "data_frame"
   ]
  },
  {
   "cell_type": "code",
   "execution_count": 91,
   "metadata": {},
   "outputs": [
    {
     "data": {
      "text/plain": [
       "0     -0.000416\n",
       "34    -0.046820\n",
       "76    -0.088530\n",
       "7     -0.138364\n",
       "90    -0.192496\n",
       "        ...    \n",
       "70   -13.051905\n",
       "86   -13.059056\n",
       "78   -13.392826\n",
       "80   -13.572038\n",
       "96   -17.559519\n",
       "Name: 96, Length: 101, dtype: float32"
      ]
     },
     "execution_count": 91,
     "metadata": {},
     "output_type": "execute_result"
    }
   ],
   "source": [
    "aaa =data_frame[96]\n",
    "aaa = aaa.sort_values(ascending=False)\n",
    "aaa"
   ]
  },
  {
   "cell_type": "code",
   "execution_count": 92,
   "metadata": {},
   "outputs": [
    {
     "data": {
      "text/plain": [
       "0     -0.022544\n",
       "22    -0.043502\n",
       "96    -0.046820\n",
       "7     -0.073923\n",
       "76    -0.126580\n",
       "        ...    \n",
       "94   -11.824965\n",
       "27   -11.902228\n",
       "78   -13.084611\n",
       "11   -13.509437\n",
       "86   -13.639469\n",
       "Name: 34, Length: 101, dtype: float32"
      ]
     },
     "execution_count": 92,
     "metadata": {},
     "output_type": "execute_result"
    }
   ],
   "source": [
    "bbb = data_frame[34].sort_values(ascending=False)\n",
    "bbb"
   ]
  },
  {
   "cell_type": "code",
   "execution_count": 101,
   "metadata": {},
   "outputs": [
    {
     "data": {
      "text/plain": [
       "76    -0.007198\n",
       "14    -0.016572\n",
       "0     -0.058334\n",
       "19    -0.179243\n",
       "90    -0.274479\n",
       "        ...    \n",
       "63   -16.370413\n",
       "11   -17.487064\n",
       "70   -17.529844\n",
       "59   -18.505436\n",
       "78   -19.584375\n",
       "Name: 59, Length: 101, dtype: float32"
      ]
     },
     "execution_count": 101,
     "metadata": {},
     "output_type": "execute_result"
    }
   ],
   "source": [
    "ccc = data_frame[59].sort_values(ascending=False)\n",
    "ccc"
   ]
  },
  {
   "cell_type": "markdown",
   "metadata": {},
   "source": [
    "# Informações"
   ]
  },
  {
   "cell_type": "code",
   "execution_count": 65,
   "metadata": {},
   "outputs": [
    {
     "data": {
      "text/plain": [
       "dict"
      ]
     },
     "execution_count": 65,
     "metadata": {},
     "output_type": "execute_result"
    }
   ],
   "source": [
    "\n",
    "type(data[1])"
   ]
  },
  {
   "cell_type": "code",
   "execution_count": 66,
   "metadata": {},
   "outputs": [
    {
     "data": {
      "text/plain": [
       "3"
      ]
     },
     "execution_count": 66,
     "metadata": {},
     "output_type": "execute_result"
    }
   ],
   "source": [
    "len(data[1])"
   ]
  },
  {
   "cell_type": "markdown",
   "metadata": {},
   "source": [
    "data = tuple(array,dicionario)"
   ]
  },
  {
   "cell_type": "code",
   "execution_count": 67,
   "metadata": {},
   "outputs": [
    {
     "data": {
      "text/plain": [
       "{'duration': 2123.749873638153,\n",
       " 'device_count': 0,\n",
       " 'args': Namespace(config=None, problem='vrp', checkpoint='logs/vrp_uchoa100/best_val_loss_checkpoint.tar', instances='dados_validacao.npy', output_filename=None, batch_size=50, no_prepwrap=False, f=True)}"
      ]
     },
     "execution_count": 67,
     "metadata": {},
     "output_type": "execute_result"
    }
   ],
   "source": [
    "data[1]"
   ]
  },
  {
   "cell_type": "code",
   "execution_count": 68,
   "metadata": {},
   "outputs": [
    {
     "name": "stdout",
     "output_type": "stream",
     "text": [
      "2000\n"
     ]
    }
   ],
   "source": [
    "# load tsp10_solucao_val\n",
    "dados = np.load('dados_solucao_validacao.npy', allow_pickle=True)\n",
    "print(len(dados))"
   ]
  },
  {
   "cell_type": "code",
   "execution_count": 69,
   "metadata": {},
   "outputs": [
    {
     "data": {
      "image/png": "[encoded data removed]",
      "text/plain": [
       "<Figure size 640x480 with 2 Axes>"
      ]
     },
     "metadata": {},
     "output_type": "display_data"
    }
   ],
   "source": [
    "import matplotlib.pyplot as plt\n",
    "import numpy as np\n",
    "\n",
    "# Assuming `data` is your array of shape (2000, 10, 10)\n",
    "time_step = 0 # Choose the time step you want to plot\n",
    "plt.imshow(data[time_step][0], cmap='viridis', aspect='auto')\n",
    "plt.colorbar()\n",
    "plt.title(f\"Heatmap for Time Step {time_step}\")\n",
    "plt.show()\n"
   ]
  },
  {
   "cell_type": "code",
   "execution_count": 70,
   "metadata": {},
   "outputs": [
    {
     "ename": "ValueError",
     "evalue": "setting an array element with a sequence. The requested array has an inhomogeneous shape after 1 dimensions. The detected shape was (2,) + inhomogeneous part.",
     "output_type": "error",
     "traceback": [
      "\u001b[0;31m---------------------------------------------------------------------------\u001b[0m",
      "\u001b[0;31mValueError\u001b[0m                                Traceback (most recent call last)",
      "Cell \u001b[0;32mIn[70], line 2\u001b[0m\n\u001b[1;32m      1\u001b[0m \u001b[38;5;66;03m# Calculate the mean across the first dimension (time axis)\u001b[39;00m\n\u001b[0;32m----> 2\u001b[0m mean_data \u001b[38;5;241m=\u001b[39m np\u001b[38;5;241m.\u001b[39mmean(data, axis\u001b[38;5;241m=\u001b[39m\u001b[38;5;241m0\u001b[39m)\n\u001b[1;32m      4\u001b[0m plt\u001b[38;5;241m.\u001b[39mimshow(mean_data, cmap\u001b[38;5;241m=\u001b[39m\u001b[38;5;124m'\u001b[39m\u001b[38;5;124mviridis\u001b[39m\u001b[38;5;124m'\u001b[39m, aspect\u001b[38;5;241m=\u001b[39m\u001b[38;5;124m'\u001b[39m\u001b[38;5;124mauto\u001b[39m\u001b[38;5;124m'\u001b[39m)\n\u001b[1;32m      5\u001b[0m plt\u001b[38;5;241m.\u001b[39mcolorbar()\n",
      "File \u001b[0;32m~/anaconda3/lib/python3.12/site-packages/numpy/core/fromnumeric.py:3504\u001b[0m, in \u001b[0;36mmean\u001b[0;34m(a, axis, dtype, out, keepdims, where)\u001b[0m\n\u001b[1;32m   3501\u001b[0m     \u001b[38;5;28;01melse\u001b[39;00m:\n\u001b[1;32m   3502\u001b[0m         \u001b[38;5;28;01mreturn\u001b[39;00m mean(axis\u001b[38;5;241m=\u001b[39maxis, dtype\u001b[38;5;241m=\u001b[39mdtype, out\u001b[38;5;241m=\u001b[39mout, \u001b[38;5;241m*\u001b[39m\u001b[38;5;241m*\u001b[39mkwargs)\n\u001b[0;32m-> 3504\u001b[0m \u001b[38;5;28;01mreturn\u001b[39;00m _methods\u001b[38;5;241m.\u001b[39m_mean(a, axis\u001b[38;5;241m=\u001b[39maxis, dtype\u001b[38;5;241m=\u001b[39mdtype,\n\u001b[1;32m   3505\u001b[0m                       out\u001b[38;5;241m=\u001b[39mout, \u001b[38;5;241m*\u001b[39m\u001b[38;5;241m*\u001b[39mkwargs)\n",
      "File \u001b[0;32m~/anaconda3/lib/python3.12/site-packages/numpy/core/_methods.py:102\u001b[0m, in \u001b[0;36m_mean\u001b[0;34m(a, axis, dtype, out, keepdims, where)\u001b[0m\n\u001b[1;32m    101\u001b[0m \u001b[38;5;28;01mdef\u001b[39;00m \u001b[38;5;21m_mean\u001b[39m(a, axis\u001b[38;5;241m=\u001b[39m\u001b[38;5;28;01mNone\u001b[39;00m, dtype\u001b[38;5;241m=\u001b[39m\u001b[38;5;28;01mNone\u001b[39;00m, out\u001b[38;5;241m=\u001b[39m\u001b[38;5;28;01mNone\u001b[39;00m, keepdims\u001b[38;5;241m=\u001b[39m\u001b[38;5;28;01mFalse\u001b[39;00m, \u001b[38;5;241m*\u001b[39m, where\u001b[38;5;241m=\u001b[39m\u001b[38;5;28;01mTrue\u001b[39;00m):\n\u001b[0;32m--> 102\u001b[0m     arr \u001b[38;5;241m=\u001b[39m asanyarray(a)\n\u001b[1;32m    104\u001b[0m     is_float16_result \u001b[38;5;241m=\u001b[39m \u001b[38;5;28;01mFalse\u001b[39;00m\n\u001b[1;32m    106\u001b[0m     rcount \u001b[38;5;241m=\u001b[39m _count_reduce_items(arr, axis, keepdims\u001b[38;5;241m=\u001b[39mkeepdims, where\u001b[38;5;241m=\u001b[39mwhere)\n",
      "\u001b[0;31mValueError\u001b[0m: setting an array element with a sequence. The requested array has an inhomogeneous shape after 1 dimensions. The detected shape was (2,) + inhomogeneous part."
     ]
    }
   ],
   "source": [
    "# Calculate the mean across the first dimension (time axis)\n",
    "mean_data = np.mean(data, axis=0)\n",
    "\n",
    "plt.imshow(mean_data, cmap='viridis', aspect='auto')\n",
    "plt.colorbar()\n",
    "plt.title(\"Average Heatmap Across All Time Steps\")\n",
    "plt.show()\n"
   ]
  }
 ],
 "metadata": {
  "kernelspec": {
   "display_name": "base",
   "language": "python",
   "name": "python3"
  },
  "language_info": {
   "codemirror_mode": {
    "name": "ipython",
    "version": 3
   },
   "file_extension": ".py",
   "mimetype": "text/x-python",
   "name": "python",
   "nbconvert_exporter": "python",
   "pygments_lexer": "ipython3",
   "version": "3.12.2"
  }
 },
 "nbformat": 4,
 "nbformat_minor": 2
}
